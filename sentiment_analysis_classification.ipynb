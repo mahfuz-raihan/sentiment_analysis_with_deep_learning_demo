{
 "cells": [
  {
   "cell_type": "code",
   "execution_count": null,
   "metadata": {},
   "outputs": [],
   "source": [
    "import numpy as np \n",
    "import pandas as pd \n",
    "import time\n",
    "from keras.preprocessing.text import Tokenizer\n",
    "from keras.preprocessing.sequence import pad_sequences\n",
    "from keras.models import Sequential\n",
    "from keras.layers import Dense, Embedding, LSTM\n",
    "from sklearn.model_selection import train_test_split\n",
    "from keras.utils.np_utils import to_categorical\n",
    "import re\n",
    "from gensim.models import Doc2Vec, doc2vec\n",
    "from nltk.corpus import stopwords\n",
    "from nltk.stem.porter import *\n",
    "from textblob import TextBlob, Word\n",
    "import tensorflow as tf\n",
    "import matplotlib.pyplot as plt\n",
    "from sklearn.naive_bayes import MultinomialNB\n",
    "from sklearn.feature_extraction.text import CountVectorizer\n",
    "from sklearn import metrics\n",
    "from sklearn.linear_model import LogisticRegression, SGDClassifier"
   ]
  },
  {
   "cell_type": "code",
   "execution_count": null,
   "metadata": {},
   "outputs": [],
   "source": [
    "df = pd.read_csv(\"sampleTrain.csv\", dtype={\"label\": int, \"text\": str})\n",
    "p = df.groupby(\"label\").count()\n",
    "\n",
    "plt.figure(0)\n",
    "plt.bar(p.index, p.text, alpha=0.5)\n",
    "plt.xticks(p.index)\n",
    "plt.show()\n"
   ]
  },
  {
   "cell_type": "code",
   "execution_count": null,
   "metadata": {},
   "outputs": [],
   "source": [
    "\n",
    "y = df.label\n",
    "text = df.text\n",
    "\n",
    "tick = time.time()\n",
    "#Convert all text to lower case\n",
    "text = text.apply(lambda x: \" \".join(x.lower() for x in str(x).split()))\n",
    "\n",
    "#Remove all punctuation\n",
    "for i in range(0, len(text)):\n",
    "    text[i] = re.sub(r'[^\\w\\s]', \"\", text[i])\n",
    "\n",
    "#Remove stop words (removes important words! needs modification)\n",
    "stop = stopwords.words(\"english\")\n",
    "stop = stop[:143]\n",
    "stop.remove(\"not\")\n",
    "stop.remove(\"against\")\n",
    "stop.remove(\"no\")\n",
    "text = text.apply(lambda x: \" \".join(x for x in str(x).split() if x not in stop))\n",
    "\n",
    "#Stemming\n",
    "stemmer = PorterStemmer()\n",
    "text = text.apply(lambda x: \" \".join(stemmer.stem(x) for x in str(x).split()))\n",
    "\n",
    "#seperating words into lists\n",
    "for i, line in enumerate(text):\n",
    "  text[i] = line.split()\n",
    "\n",
    "df.text = text\n",
    "text = list(text)\n",
    "print(time.time() - tick)\n",
    "df\n",
    "#df.to_csv(\"out.csv\", sep=\",\")"
   ]
  },
  {
   "cell_type": "code",
   "execution_count": null,
   "metadata": {},
   "outputs": [],
   "source": [
    "df = pd.read_csv(\"out-stem.csv\", dtype={\"label\": int, \"text\": str})"
   ]
  },
  {
   "cell_type": "code",
   "execution_count": null,
   "metadata": {},
   "outputs": [],
   "source": [
    "X = df.text\n",
    "Y = df.label\n",
    "X"
   ]
  },
  {
   "cell_type": "code",
   "execution_count": null,
   "metadata": {},
   "outputs": [],
   "source": [
    "vectorizer = CountVectorizer().fit(X)\n",
    "X = vectorizer.transform(X)\n",
    "\n",
    "print(X.shape)\n",
    "\n",
    "x_train, x_test, y_train, y_test = train_test_split(X, Y, test_size=0.3, random_state=101)"
   ]
  },
  {
   "cell_type": "markdown",
   "metadata": {},
   "source": [
    "# Naive Bayes"
   ]
  },
  {
   "cell_type": "code",
   "execution_count": null,
   "metadata": {},
   "outputs": [],
   "source": [
    "from sklearn.naive_bayes import MultinomialNB\n",
    "\n",
    "nb = MultinomialNB()\n",
    "nb.fit(x_train, y_train)"
   ]
  },
  {
   "cell_type": "code",
   "execution_count": null,
   "metadata": {},
   "outputs": [],
   "source": [
    "prediction = nb.predict(x_test)"
   ]
  },
  {
   "cell_type": "code",
   "execution_count": null,
   "metadata": {},
   "outputs": [],
   "source": [
    "from sklearn.metrics import confusion_matrix, classification_report, accuracy_score\n",
    "print(confusion_matrix(y_test, prediction))\n",
    "print()\n",
    "print(classification_report(y_test, prediction))\n",
    "print(accuracy_score(y_test, prediction))"
   ]
  },
  {
   "cell_type": "code",
   "execution_count": null,
   "metadata": {},
   "outputs": [],
   "source": [
    "positive_review = [\"ok\", \"hit\", \"miss\", \"decent\"]\n",
    "transformed_review  = vectorizer.transform(positive_review)\n",
    "\n",
    "nb.predict(transformed_review)[0]"
   ]
  }
 ],
 "metadata": {
  "kernelspec": {
   "display_name": "tf",
   "language": "python",
   "name": "python3"
  },
  "language_info": {
   "codemirror_mode": {
    "name": "ipython",
    "version": 3
   },
   "file_extension": ".py",
   "mimetype": "text/x-python",
   "name": "python",
   "nbconvert_exporter": "python",
   "pygments_lexer": "ipython3",
   "version": "3.12.0"
  }
 },
 "nbformat": 4,
 "nbformat_minor": 2
}
