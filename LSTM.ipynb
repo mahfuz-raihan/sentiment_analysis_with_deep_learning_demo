{
 "cells": [
  {
   "cell_type": "code",
   "execution_count": null,
   "metadata": {},
   "outputs": [],
   "source": [
    "import numpy as np \n",
    "import pandas as pd \n",
    "\n",
    "from sklearn.feature_extraction.text import CountVectorizer\n",
    "from keras.preprocessing.text import Tokenizer\n",
    "from keras.preprocessing.sequence import pad_sequences\n",
    "from keras.models import Sequential\n",
    "from keras.layers import Dense, Embedding, LSTM\n",
    "from sklearn.model_selection import train_test_split\n",
    "from keras.utils.np_utils import to_categorical\n",
    "import re\n",
    "import pandas as pd \n",
    "import re\n",
    "import numpy as np\n",
    "from gensim.models import Doc2Vec, doc2vec\n",
    "#import numpy as np\n",
    "from nltk.corpus import stopwords\n",
    "from textblob import TextBlob, Word\n",
    "import nltk\n",
    "#nltk.download('wordnet')\n",
    "#nltk.download('stopwords')\n",
    "import pandas as pd"
   ]
  },
  {
   "cell_type": "code",
   "execution_count": null,
   "metadata": {},
   "outputs": [],
   "source": []
  },
  {
   "cell_type": "code",
   "execution_count": null,
   "metadata": {},
   "outputs": [],
   "source": [
    "\n",
    "df = pd.read_csv('train.csv',dtype={\"label\": object, \"text\": object})\n",
    "#df = pd.read_csv(\"sample.csv\", dtype={\"label\": object, \"text\": object})\n",
    "y = df.label \n",
    "text = df.text\n",
    "\n",
    "#print(df)\n",
    "#Convert all text to lower case\n",
    "df.text = df.text.apply(lambda x: \" \".join(x.lower() for x in str(x).split()))\n",
    "\n",
    "#Remove all punctuation\n",
    "for i in range(0, len(text)):\n",
    "    df.text[i] = re.sub(r'[^\\w\\s]', \"\", df.text[i])\n",
    "    \n",
    "stop = stopwords.words(\"english\")\n",
    "# for i in range(0, len(text)):\n",
    "#   line = text[i].split()\n",
    "#   for word in line:\n",
    "#     if word in stop:\n",
    "#       line.remove(word)\n",
    "#   text[i] = \" \".join(line)\n",
    "      \n",
    "#Remove stop words\n",
    "df.text = df.text.apply(lambda x: \" \".join(x for x in str(x).split() if x not in stop))\n",
    "\n",
    "#Lem\n",
    "df.text = df.text.apply(lambda x: \" \".join(Word(x).lemmatize() for x in x.split()))\n",
    "\n",
    "for i, line in enumerate(df.text):\n",
    "    df.text[i] = line.split()\n",
    "\n",
    "print(df)"
   ]
  },
  {
   "cell_type": "code",
   "execution_count": null,
   "metadata": {},
   "outputs": [],
   "source": [
    "del(data)\n",
    "data = df[['text', 'label']]"
   ]
  },
  {
   "cell_type": "code",
   "execution_count": null,
   "metadata": {},
   "outputs": [],
   "source": [
    "data.text"
   ]
  },
  {
   "cell_type": "code",
   "execution_count": null,
   "metadata": {},
   "outputs": [],
   "source": [
    "for idx,row in data.iterrows():\n",
    "    row[0] = row[0].replace('rt',' ')"
   ]
  },
  {
   "cell_type": "code",
   "execution_count": null,
   "metadata": {},
   "outputs": [],
   "source": [
    "vocabulary=[]\n",
    "data['text'][0]\n",
    "for key, value in data['text'].items():\n",
    "    temp = value\n",
    "    vocabulary.append(temp)\n",
    "vocabulary\n",
    "vocabulary= [x.encode('ascii')  for x in vocabulary]"
   ]
  },
  {
   "cell_type": "code",
   "execution_count": null,
   "metadata": {},
   "outputs": [],
   "source": [
    "data['text']= [x.encode('ascii') for x in data['text']]"
   ]
  },
  {
   "cell_type": "code",
   "execution_count": null,
   "metadata": {},
   "outputs": [],
   "source": [
    "tokenizer = Tokenizer(nb_words=2000, filters='!\"#$%&()*+,-./:;<=>?@[\\]^_`{|}~\\t\\n',\n",
    "                                   lower=True,split=' ')\n",
    "tokenizer.fit_on_texts(data['text'].values)\n",
    "tokenizer\n",
    "X = tokenizer.texts_to_sequences(data['text'].values)\n",
    "X = pad_sequences(X)"
   ]
  },
  {
   "cell_type": "code",
   "execution_count": null,
   "metadata": {},
   "outputs": [],
   "source": [
    "embed_dim = 128\n",
    "lstm_out = 196\n",
    "batch_size = 32\n",
    "\n",
    "model = Sequential()\n",
    "model.add(Embedding(2000, embed_dim,input_length = X.shape[1], dropout = 0.2))\n",
    "model.add(LSTM(lstm_out, dropout_U = 0.2, dropout_W = 0.2))\n",
    "model.add(Dense(units=4,activation='relu'))\n",
    "model.compile(loss = 'categorical_crossentropy', optimizer='adam',metrics = ['accuracy'])\n",
    "print(model.summary())"
   ]
  },
  {
   "cell_type": "code",
   "execution_count": null,
   "metadata": {},
   "outputs": [],
   "source": [
    "x.shape"
   ]
  },
  {
   "cell_type": "code",
   "execution_count": null,
   "metadata": {},
   "outputs": [],
   "source": [
    "Y = pd.get_dummies(data['label']).values\n",
    "X_train, X_test, Y_train, Y_test = train_test_split(X,Y, test_size = 0.2, random_state = 42)\n",
    "print(X_train.shape,Y_train.shape)\n",
    "print(X_test.shape,Y_test.shape)"
   ]
  },
  {
   "cell_type": "code",
   "execution_count": null,
   "metadata": {},
   "outputs": [],
   "source": [
    "model.fit(X_train, Y_train, batch_size = batch_size, nb_epoch = 1, verbose = 2)"
   ]
  }
 ],
 "metadata": {
  "kernelspec": {
   "display_name": "tf",
   "language": "python",
   "name": "python3"
  },
  "language_info": {
   "name": "python",
   "version": "3.12.0"
  }
 },
 "nbformat": 4,
 "nbformat_minor": 2
}
